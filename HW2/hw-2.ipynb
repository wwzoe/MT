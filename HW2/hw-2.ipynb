{
 "cells": [
  {
   "cell_type": "code",
   "execution_count": 1,
   "metadata": {
    "collapsed": false
   },
   "outputs": [
    {
     "name": "stdout",
     "output_type": "stream",
     "text": [
      "Inuktitut English dataset configuration\n",
      "vocab size, en=50, fr=51\n",
      "in_en_model_50000/train_50000sen_3-3layers_200units_baseline_aajuq_SOFT_ATTN.log\n",
      "in_en_model_50000/seq2seq_50000sen_3-3layers_200units_baseline_aajuq_SOFT_ATTN.model\n",
      "here False\n",
      "Splitting data into 10 buckets, each of width=10\n",
      "Saving bucket data\n",
      "Bucket 10, # items=4164\n",
      "Bucket 20, # items=13772\n",
      "Bucket 30, # items=4605\n",
      "Bucket 40, # items=2929\n",
      "Bucket 50, # items=2423\n",
      "Bucket 60, # items=2272\n",
      "Bucket 70, # items=1955\n",
      "Bucket 80, # items=1808\n",
      "Bucket 90, # items=1596\n",
      "Bucket 100, # items=9476\n"
     ]
    }
   ],
   "source": [
    "%run nmt_translate.py"
   ]
  },
  {
   "cell_type": "code",
   "execution_count": 2,
   "metadata": {
    "collapsed": false
   },
   "outputs": [
    {
     "name": "stdout",
     "output_type": "stream",
     "text": [
      "Splitting data into 10 buckets, each of width=10\n",
      "Saving bucket data\n",
      "Bucket 10, # items=4164\n",
      "Bucket 20, # items=13772\n",
      "Bucket 30, # items=4605\n",
      "Bucket 40, # items=2929\n",
      "Bucket 50, # items=2423\n",
      "Bucket 60, # items=2272\n",
      "Bucket 70, # items=1955\n",
      "Bucket 80, # items=1808\n",
      "Bucket 90, # items=1596\n",
      "Bucket 100, # items=9476\n"
     ]
    }
   ],
   "source": [
    "_= create_buckets()"
   ]
  },
  {
   "cell_type": "code",
   "execution_count": 4,
   "metadata": {
    "collapsed": false
   },
   "outputs": [
    {
     "name": "stderr",
     "output_type": "stream",
     "text": [
      "loss=35.193378: 100%|██████████| 5000/5000 [14:48:26<00:00,  1.07it/s]        "
     ]
    },
    {
     "name": "stdout",
     "output_type": "stream",
     "text": [
      "--------------------------------------------------\n",
      "dev perplexity | 15.953778\n",
      "# words in dev | 214209\n",
      "--------------------------------------------------\n"
     ]
    },
    {
     "name": "stderr",
     "output_type": "stream",
     "text": [
      "\n"
     ]
    }
   ],
   "source": [
    "_ = compute_dev_pplx()"
   ]
  },
  {
   "cell_type": "code",
   "execution_count": null,
   "metadata": {
    "collapsed": true
   },
   "outputs": [],
   "source": [
    "3 3  2平 4好"
   ]
  },
  {
   "cell_type": "code",
   "execution_count": null,
   "metadata": {
    "collapsed": false
   },
   "outputs": [],
   "source": [
    "\n",
    "%run nmt_translate.py\n",
    "\n",
    "_ = predict(s=0, num=10, sample=False)"
   ]
  },
  {
   "cell_type": "code",
   "execution_count": null,
   "metadata": {
    "collapsed": true
   },
   "outputs": [],
   "source": [
    "31 5好"
   ]
  },
  {
   "cell_type": "code",
   "execution_count": null,
   "metadata": {
    "collapsed": false
   },
   "outputs": [],
   "source": [
    "\n",
    "%run nmt_translate.py\n",
    "\n",
    "_ = predict(s=0, num=10, sample=False)"
   ]
  },
  {
   "cell_type": "code",
   "execution_count": null,
   "metadata": {
    "collapsed": true
   },
   "outputs": [],
   "source": [
    "13 四平四号"
   ]
  },
  {
   "cell_type": "code",
   "execution_count": null,
   "metadata": {
    "collapsed": false
   },
   "outputs": [],
   "source": [
    "\n",
    "%run nmt_translate.py\n",
    "\n",
    "_ = predict(s=0, num=10, sample=False)"
   ]
  },
  {
   "cell_type": "code",
   "execution_count": null,
   "metadata": {
    "collapsed": false
   },
   "outputs": [],
   "source": [
    "\n",
    "%run nmt_translate.py\n",
    "\n",
    "_ = predict(s=0, num=10, sample=False)\n",
    "\n"
   ]
  },
  {
   "cell_type": "code",
   "execution_count": null,
   "metadata": {
    "collapsed": false
   },
   "outputs": [],
   "source": [
    "%run nmt_translate.py\n",
    "predict(s=10000, num=6, plot=True)"
   ]
  },
  {
   "cell_type": "code",
   "execution_count": null,
   "metadata": {
    "collapsed": false
   },
   "outputs": [],
   "source": [
    "_ = predict(s=10000, num=3, plot=True)"
   ]
  },
  {
   "cell_type": "code",
   "execution_count": null,
   "metadata": {
    "collapsed": false
   },
   "outputs": [],
   "source": [
    "\n",
    "%run nmt_translate.py\n",
    "\n",
    "_ = predict(s=10000, num=500, sample=False)\n",
    "\n",
    "\n"
   ]
  },
  {
   "cell_type": "code",
   "execution_count": null,
   "metadata": {
    "collapsed": true
   },
   "outputs": [],
   "source": []
  }
 ],
 "metadata": {
  "kernelspec": {
   "display_name": "Python 3",
   "language": "python",
   "name": "python3"
  },
  "language_info": {
   "codemirror_mode": {
    "name": "ipython",
    "version": 3
   },
   "file_extension": ".py",
   "mimetype": "text/x-python",
   "name": "python",
   "nbconvert_exporter": "python",
   "pygments_lexer": "ipython3",
   "version": "3.6.0"
  }
 },
 "nbformat": 4,
 "nbformat_minor": 2
}
