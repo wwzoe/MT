{
 "cells": [
  {
   "cell_type": "markdown",
   "metadata": {},
   "source": [
    "Hungarian English "
   ]
  },
  {
   "cell_type": "code",
   "execution_count": 1,
   "metadata": {
    "collapsed": false
   },
   "outputs": [
    {
     "name": "stdout",
     "output_type": "stream",
     "text": [
      "Open subtitles dataset configuration\n",
      "vocab size, en=13070, fr=36012\n",
      "hu_en_model_50000/train_50000sen_3-3layers_100units_baseline_budoslab_SOFT_ATTN.log\n",
      "hu_en_model_50000/seq2seq_50000sen_3-3layers_100units_baseline_budoslab_SOFT_ATTN.model\n",
      "here True\n",
      "not creating buckets as requested. will crash if buckets not present\n",
      "last saved epoch model=0\n",
      "loading model ...\n",
      "finished loading: hu_en_model_50000/seq2seq_50000sen_3-3layers_100units_baseline_budoslab_SOFT_ATTN.model\n"
     ]
    }
   ],
   "source": [
    "%run nmt_translate.py"
   ]
  },
  {
   "cell_type": "code",
   "execution_count": 2,
   "metadata": {
    "collapsed": false
   },
   "outputs": [
    {
     "name": "stderr",
     "output_type": "stream",
     "text": [
      "loss=15.376650: 100%|██████████| 5000/5000 [04:34<00:00, 18.21it/s] "
     ]
    },
    {
     "name": "stdout",
     "output_type": "stream",
     "text": [
      "--------------------------------------------------\n",
      "dev perplexity | 90.104582\n",
      "# words in dev |  33576\n",
      "--------------------------------------------------\n"
     ]
    },
    {
     "name": "stderr",
     "output_type": "stream",
     "text": [
      "\n"
     ]
    }
   ],
   "source": [
    "_=compute_dev_pplx()"
   ]
  },
  {
   "cell_type": "code",
   "execution_count": 3,
   "metadata": {
    "collapsed": false
   },
   "outputs": [
    {
     "name": "stderr",
     "output_type": "stream",
     "text": [
      "100%|██████████| 5000/5000 [04:24<00:00, 16.92it/s]\n"
     ]
    },
    {
     "name": "stdout",
     "output_type": "stream",
     "text": [
      "BLEU: 26.03\n"
     ]
    }
   ],
   "source": [
    "_=compute_dev_bleu()"
   ]
  },
  {
   "cell_type": "markdown",
   "metadata": {},
   "source": [
    "Inuktitut English "
   ]
  },
  {
   "cell_type": "code",
   "execution_count": 1,
   "metadata": {
    "collapsed": false
   },
   "outputs": [
    {
     "name": "stdout",
     "output_type": "stream",
     "text": [
      "Inuktitut English dataset configuration\n",
      "vocab size, en=9363, fr=64858\n",
      "in_en_model_50000/train_50000sen_3-3layers_200units_baseline_aajuq_SOFT_ATTN.log\n",
      "in_en_model_50000/seq2seq_50000sen_3-3layers_200units_baseline_aajuq_SOFT_ATTN.model\n",
      "here True\n",
      "not creating buckets as requested. will crash if buckets not present\n",
      "last saved epoch model=0\n",
      "loading model ...\n",
      "finished loading: in_en_model_50000/seq2seq_50000sen_3-3layers_200units_baseline_aajuq_SOFT_ATTN.model\n"
     ]
    }
   ],
   "source": [
    "%run nmt_translate.py"
   ]
  },
  {
   "cell_type": "code",
   "execution_count": 2,
   "metadata": {
    "collapsed": false
   },
   "outputs": [
    {
     "name": "stderr",
     "output_type": "stream",
     "text": [
      "loss=261.841797: 100%|██████████| 5000/5000 [06:58<00:00,  8.72it/s]"
     ]
    },
    {
     "name": "stdout",
     "output_type": "stream",
     "text": [
      "--------------------------------------------------\n",
      "dev perplexity | 465.233001\n",
      "# words in dev |  47309\n",
      "--------------------------------------------------\n"
     ]
    },
    {
     "name": "stderr",
     "output_type": "stream",
     "text": [
      "\n"
     ]
    }
   ],
   "source": [
    "_=compute_dev_pplx()"
   ]
  },
  {
   "cell_type": "code",
   "execution_count": 3,
   "metadata": {
    "collapsed": false
   },
   "outputs": [
    {
     "name": "stderr",
     "output_type": "stream",
     "text": [
      "100%|██████████| 5000/5000 [04:16<00:00, 19.49it/s]"
     ]
    },
    {
     "name": "stdout",
     "output_type": "stream",
     "text": [
      "BLEU: 22.82\n"
     ]
    },
    {
     "name": "stderr",
     "output_type": "stream",
     "text": [
      "\n"
     ]
    }
   ],
   "source": [
    "_=compute_dev_bleu()"
   ]
  },
  {
   "cell_type": "markdown",
   "metadata": {},
   "source": [
    "prediction"
   ]
  },
  {
   "cell_type": "code",
   "execution_count": 19,
   "metadata": {
    "collapsed": false
   },
   "outputs": [
    {
     "name": "stdout",
     "output_type": "stream",
     "text": [
      "English predictions, s=0, num=20:\n",
      "--------------------------------------------------\n",
      "sentence: 0\n",
      "Src | Álmomban sem hittem volna                                                       \n",
      "Ref | i never dreamed before                                                          \n",
      "Hyp | i can never never _EOS                                                          \n",
      "--------------------------------------------------\n",
      "precision | 0.5000\n",
      "recall | 0.5000\n"
     ]
    },
    {
     "name": "stderr",
     "output_type": "stream",
     "text": [
      "/Users/liuxiaorong/anaconda2/envs/mtenv/lib/python3.6/site-packages/matplotlib/pyplot.py:524: RuntimeWarning: More than 20 figures have been opened. Figures created through the pyplot interface (`matplotlib.pyplot.figure`) are retained until explicitly closed and may consume too much memory. (To control this warning, see the rcParam `figure.max_open_warning`).\n",
      "  max_open_warning, RuntimeWarning)\n"
     ]
    },
    {
     "name": "stdout",
     "output_type": "stream",
     "text": [
      "--------------------------------------------------\n",
      "sentence: 1\n",
      "Src | hogy az ajtók megnyílnak sorba előttem egy szabad világ felé                    \n",
      "Ref | i m gonna knock the door into the world of perfect free                         \n",
      "Hyp | i m get into into the opened the the water water s in _EOS                      \n",
      "--------------------------------------------------\n",
      "precision | 0.3846\n",
      "recall | 0.4167\n",
      "--------------------------------------------------\n",
      "sentence: 2\n",
      "Src | magányos nem leszel többé                                                       \n",
      "Ref | you ain t no lonely                                                             \n",
      "Hyp | no no didn t _EOS                                                               \n",
      "--------------------------------------------------\n",
      "precision | 0.5000\n",
      "recall | 0.4000\n",
      "--------------------------------------------------\n",
      "sentence: 3\n",
      "Src | azt hiszed hogy ámítás                                                          \n",
      "Ref | you re gonna say i m lying                                                      \n",
      "Hyp | you know sure that re lying lying _EOS                                          \n",
      "--------------------------------------------------\n",
      "precision | 0.4286\n",
      "recall | 0.4286\n",
      "--------------------------------------------------\n",
      "sentence: 4\n",
      "Src | pedig nekem is vitás                                                            \n",
      "Ref | i m gonna get the chance                                                        \n",
      "Hyp | i ll take into chance one _EOS                                                  \n",
      "--------------------------------------------------\n",
      "precision | 0.3333\n",
      "recall | 0.3333\n",
      "--------------------------------------------------\n",
      "sentence: 5\n",
      "Src | hogy lesz-e ilyen szerencsém többé                                              \n",
      "Ref | i thought a chance is far from me                                               \n",
      "Hyp | you s one a a a _EOS                                                            \n",
      "--------------------------------------------------\n",
      "precision | 0.1667\n",
      "recall | 0.1250\n",
      "--------------------------------------------------\n",
      "sentence: 6\n",
      "Src | magányos nem leszel többé                                                       \n",
      "Ref | you ain t no lonely                                                             \n",
      "Hyp | no no didn t _EOS                                                               \n",
      "--------------------------------------------------\n",
      "precision | 0.5000\n",
      "recall | 0.4000\n",
      "--------------------------------------------------\n",
      "sentence: 7\n",
      "Src | még pár év és miénk amerika                                                     \n",
      "Ref | i was made to hit in america i was made to hit in america i was made to hit in america\n",
      "Hyp | some 12 been hours hours _EOS                                                   \n",
      "--------------------------------------------------\n",
      "precision | 0.0000\n",
      "recall | 0.0000\n",
      "--------------------------------------------------\n",
      "sentence: 8\n",
      "Src | te vagy a nyár te vagy a sztár                                                  \n",
      "Ref | you are the sun you are the star                                                \n",
      "Hyp | you are the are are are are are star star _EOS                                  \n",
      "--------------------------------------------------\n",
      "precision | 0.5000\n",
      "recall | 0.6250\n",
      "--------------------------------------------------\n",
      "sentence: 9\n",
      "Src | nekem örökké                                                                    \n",
      "Ref | to me forever                                                                   \n",
      "Hyp | do me forever _EOS                                                              \n",
      "--------------------------------------------------\n",
      "precision | 0.6667\n",
      "recall | 0.6667\n",
      "--------------------------------------------------\n",
      "sentence: 10\n",
      "Src | te vagy a nyár te vagy a sztár                                                  \n",
      "Ref | you are the sun you are the star                                                \n",
      "Hyp | you are the are are are are are star star _EOS                                  \n",
      "--------------------------------------------------\n",
      "precision | 0.5000\n",
      "recall | 0.6250\n",
      "--------------------------------------------------\n",
      "sentence: 11\n",
      "Src | nekem örökké                                                                    \n",
      "Ref | to me forever                                                                   \n",
      "Hyp | do me forever _EOS                                                              \n",
      "--------------------------------------------------\n",
      "precision | 0.6667\n",
      "recall | 0.6667\n",
      "--------------------------------------------------\n",
      "sentence: 12\n",
      "Src | még pár év és miénk amerika                                                     \n",
      "Ref | i was made to hit in america                                                    \n",
      "Hyp | some 12 been hours hours _EOS                                                   \n",
      "--------------------------------------------------\n",
      "precision | 0.0000\n",
      "recall | 0.0000\n",
      "--------------------------------------------------\n",
      "sentence: 13\n",
      "Src | még pár év és miénk amerika                                                     \n",
      "Ref | i was made to hit in america i was made to hit in america i was made to hit in america\n",
      "Hyp | some 12 been hours hours _EOS                                                   \n",
      "--------------------------------------------------\n",
      "precision | 0.0000\n",
      "recall | 0.0000\n",
      "--------------------------------------------------\n",
      "sentence: 14\n",
      "Src | még pár év és miénk amerika                                                     \n",
      "Ref | i was made to hit in america                                                    \n",
      "Hyp | some 12 been hours hours _EOS                                                   \n",
      "--------------------------------------------------\n",
      "precision | 0.0000\n",
      "recall | 0.0000\n",
      "--------------------------------------------------\n",
      "sentence: 15\n",
      "Src | nem megy semmi nem volt még ilyen nehéz                                         \n",
      "Ref | c-major pentatonic scale                                                        \n",
      "Hyp | no s no nothing there there no there place one more more more _EOS              \n",
      "--------------------------------------------------\n",
      "precision | 0.0000\n",
      "recall | 0.0000\n",
      "--------------------------------------------------\n",
      "sentence: 16\n",
      "Src | ez lehetetlen                                                                   \n",
      "Ref | it s too hard for me                                                            \n",
      "Hyp | that s impossible _EOS                                                          \n",
      "--------------------------------------------------\n",
      "precision | 0.3333\n",
      "recall | 0.1667\n",
      "--------------------------------------------------\n",
      "sentence: 17\n",
      "Src | barom                                                                           \n",
      "Ref | fool                                                                            \n",
      "Hyp | are re crazy _EOS                                                               \n",
      "--------------------------------------------------\n",
      "precision | 0.0000\n",
      "recall | 0.0000\n",
      "--------------------------------------------------\n",
      "sentence: 18\n",
      "Src | tudod jobb minél előbb megtanulni a skálát                                      \n",
      "Ref | but it s better to learn the scale early                                        \n",
      "Hyp | you still s better better better better better better _EOS                      \n",
      "--------------------------------------------------\n",
      "precision | 0.2222\n",
      "recall | 0.2222\n",
      "--------------------------------------------------\n",
      "sentence: 19\n",
      "Src | barom                                                                           \n",
      "Ref | fool                                                                            \n",
      "Hyp | are re crazy _EOS                                                               \n",
      "--------------------------------------------------\n",
      "precision | 0.0000\n",
      "recall | 0.0000\n",
      "sentences matching filter = 20\n"
     ]
    }
   ],
   "source": [
    "_ = predict(s=0, num=20,plot=True)"
   ]
  },
  {
   "cell_type": "code",
   "execution_count": 45,
   "metadata": {
    "collapsed": false
   },
   "outputs": [
    {
     "name": "stdout",
     "output_type": "stream",
     "text": [
      "hello world\n",
      "b'hello world'\n"
     ]
    }
   ],
   "source": [
    "a=\"hello world\"\n",
    "c=\"good\"\n",
    "b=a.encode()\n",
    "print (a) \n",
    "print(b)"
   ]
  },
  {
   "cell_type": "code",
   "execution_count": 30,
   "metadata": {
    "collapsed": false
   },
   "outputs": [
    {
     "name": "stdout",
     "output_type": "stream",
     "text": [
      "['h', 'e', 'l', 'l', 'o', ' ', 'w', 'o', 'r', 'l', 'd']\n"
     ]
    }
   ],
   "source": [
    "print(list(a))"
   ]
  },
  {
   "cell_type": "code",
   "execution_count": 46,
   "metadata": {
    "collapsed": false
   },
   "outputs": [
    {
     "name": "stdout",
     "output_type": "stream",
     "text": [
      "[('hello world', 'good')]\n"
     ]
    }
   ],
   "source": [
    "words=[]\n",
    "words.append((a,c))\n",
    "print(words)"
   ]
  },
  {
   "cell_type": "code",
   "execution_count": 43,
   "metadata": {
    "collapsed": false
   },
   "outputs": [
    {
     "name": "stdout",
     "output_type": "stream",
     "text": [
      "b' '\n"
     ]
    }
   ],
   "source": [
    "c=\" \"\n",
    "print(c.encode())\n"
   ]
  },
  {
   "cell_type": "code",
   "execution_count": 67,
   "metadata": {
    "collapsed": false
   },
   "outputs": [
    {
     "name": "stdout",
     "output_type": "stream",
     "text": [
      "4\n",
      "3\n",
      "5\n",
      "2\n",
      "5\n"
     ]
    }
   ],
   "source": [
    "w=[4,3,5,2,5]\n",
    "for i,j in enumerate(w):\n",
    "  print(j)"
   ]
  },
  {
   "cell_type": "code",
   "execution_count": 96,
   "metadata": {
    "collapsed": false
   },
   "outputs": [
    {
     "name": "stdout",
     "output_type": "stream",
     "text": [
      "[0, 0, 1.11111, 2.111, 3, 0.2324323213123213]\n"
     ]
    }
   ],
   "source": [
    "a=[1.11111,2.111,3,0.232432321312321312]\n",
    "b=2*[0]+a\n",
    "print(b)"
   ]
  },
  {
   "cell_type": "code",
   "execution_count": 83,
   "metadata": {
    "collapsed": false
   },
   "outputs": [],
   "source": [
    "def pad_list(data, lim, at_start=True):\n",
    "        if at_start:\n",
    "            ret_data = [PAD_ID]*(lim - len(data)) + data\n",
    "        else:\n",
    "            ret_data = data + [PAD_ID]*(lim - len(data))\n",
    "        return xp.asarray(ret_data, dtype=xp.int32)"
   ]
  },
  {
   "cell_type": "code",
   "execution_count": 103,
   "metadata": {
    "collapsed": false
   },
   "outputs": [
    {
     "name": "stdout",
     "output_type": "stream",
     "text": [
      "[]\n"
     ]
    }
   ],
   "source": [
    "a=np.zeros((64,0),dtype=np.float32)\n",
    "print(a)"
   ]
  }
 ],
 "metadata": {
  "kernelspec": {
   "display_name": "Python 3",
   "language": "python",
   "name": "python3"
  },
  "language_info": {
   "codemirror_mode": {
    "name": "ipython",
    "version": 3
   },
   "file_extension": ".py",
   "mimetype": "text/x-python",
   "name": "python",
   "nbconvert_exporter": "python",
   "pygments_lexer": "ipython3",
   "version": "3.6.0"
  }
 },
 "nbformat": 4,
 "nbformat_minor": 2
}
